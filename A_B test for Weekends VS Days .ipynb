{
 "cells": [
  {
   "cell_type": "code",
   "execution_count": 5,
   "id": "29e6c6b7",
   "metadata": {},
   "outputs": [
    {
     "name": "stdout",
     "output_type": "stream",
     "text": [
      "Using matplotlib backend: agg\n"
     ]
    }
   ],
   "source": [
    "import matplotlib\n",
    "import matplotlib.pyplot as plt\n",
    "%matplotlib\n",
    "import numpy as np\n",
    "from datascience import *\n",
    "from datetime import *\n",
    "%matplotlib inline\n",
    "import matplotlib.pyplot as plots\n",
    "plots.style.use('fivethirtyeight')\n",
    "from ipywidgets import interact, interactive, fixed, interact_manual\n",
    "import ipywidgets as widgets\n",
    "\n",
    "\n",
    "RSF_Table = Table.read_table(\"scraped_data2.csv\")\n",
    "def convert_to_datetime(start):\n",
    "     # converts the table to the datetime objects to better manipulate them\n",
    "    return datetime.strptime(start, \"%m/%d/%Y %H:%M\")\n",
    "convert = RSF_Table.apply(convert_to_datetime,'Timestamp')\n",
    "#new = RSF_Table.apply(convert_to_datetime2,'Timestamp')\n",
    "RSF_Table = RSF_Table.with_columns('Timestamp', convert).drop('Unnamed: 2')\n",
    "\n",
    "\n",
    "#lets do Mondays, Lets do an A/B test testing if Mondays are statistically significant\n",
    "#Step 0: make the data clean with the apropriate hours\n",
    "#step 1, make a table of the average proportion full on that day\n",
    "#\n",
    "\n",
    "#CHANGE VARIABLES HERE TO SPECIFY TIME: CAHNGE MINUTES_CHANGE to the durration of the gym, and the int under start.hour< int for desired times, right now its under RSF hours but lets say if i didnt want to wake up early I would change the 6 to a 10  \n",
    "\n",
    "def replace_day_of_week(day):\n",
    "    day = day.weekday()# later i use the weekday() from datetime, for formatting purposes I want the day of the week to show on the table\n",
    "    if day ==0:\n",
    "        return 'Monday '\n",
    "    if day ==1:\n",
    "        return 'Tuesday '\n",
    "    if day ==2:\n",
    "        return 'Wednesday '\n",
    "    if day ==3:\n",
    "        return 'Thursday '\n",
    "    if day ==4:\n",
    "        return 'Friday '\n",
    "    if day == 5:\n",
    "        return 'Saturday '\n",
    "    if day ==6:\n",
    "        return 'Sunday '\n",
    "\n",
    "def correct_hours(Table_element):   \n",
    "    if Table_element.hour <22 and Table_element.weekday() != 5 and Table_element.weekday() != 6 and Table_element.hour > 7: # make sure its during rsf hours\n",
    "        return Table_element\n",
    "    if Table_element.hour <17 and Table_element.weekday() == 5 and Table_element.hour > 6: # make sure its during rsf hours\n",
    "        return Table_element\n",
    "    if Table_element.hour <22 and Table_element.weekday() == 6 and Table_element.hour > 7: # make sure its during rsf hours\n",
    "        return Table_element\n",
    "    return None\n",
    "\n",
    "convert2 = RSF_Table.apply(replace_day_of_week,'Timestamp')\n",
    "RSF_Table = RSF_Table.with_columns('Day', convert2)\n",
    "convert = RSF_Table.apply(correct_hours,'Timestamp')\n",
    "RSF_Table = RSF_Table.with_columns('Timestamp', convert).where('Timestamp',are.not_equal_to(None)).where('Data',are.above(0.0001))\n"
   ]
  },
  {
   "cell_type": "code",
   "execution_count": 6,
   "id": "7f1597ff",
   "metadata": {},
   "outputs": [
    {
     "name": "stderr",
     "output_type": "stream",
     "text": [
      "/opt/conda/lib/python3.9/site-packages/datascience/tables.py:222: FutureWarning: Implicit column method lookup is deprecated.\n",
      "  warnings.warn(\"Implicit column method lookup is deprecated.\", FutureWarning)\n"
     ]
    }
   ],
   "source": [
    "Observed_means = RSF_Table.group('Day',np.mean).drop('Timestamp mean')\n",
    "Observed_Friday = Observed_means.item(0).column('Data mean')\n",
    "Observed_Monday = Observed_means.item(1).column('Data mean')\n",
    "Observed_Saturday = Observed_means.item(2).column('Data mean')\n",
    "Observed_Sunday = Observed_means.item(3).column('Data mean')\n",
    "Observed_Tuesday = Observed_means.item(5).column('Data mean')\n",
    "Observed_Wednesday= Observed_means.item(6).column('Data mean')\n",
    "Observed_Thursday= Observed_means.item(4).column('Data mean')\n"
   ]
  },
  {
   "cell_type": "code",
   "execution_count": 7,
   "id": "e0af6498",
   "metadata": {},
   "outputs": [],
   "source": [
    "## A/B Testing to see if the mean proportion for sunday is significantly different from the rest of the days\n",
    "#Null: Sunday has the same proportion as any other day \n",
    "#Alt: Sunday has a different proportion then another day \n",
    "\n",
    "def sample_shuffle(RSF_Table):\n",
    "    \n",
    "    shuffled_labels = RSF_Table.sample(with_replacement = False).column('Day')\n",
    "    shuffled = RSF_Table.with_column('Shuffled Day', shuffled_labels)\n",
    "    return shuffled.group('Shuffled Day',np.mean).select('Shuffled Day','Data mean').column(1)\n",
    "\n"
   ]
  },
  {
   "cell_type": "code",
   "execution_count": 9,
   "id": "1750975d",
   "metadata": {},
   "outputs": [],
   "source": [
    "temp = make_array()\n",
    "\n",
    "for i in np.arange(1000):\n",
    "    sample = sample_shuffle(RSF_Table)[0]\n",
    "    temp = np.append(temp,float(sample))\n",
    "temp2 = Table().with_columns('sample',temp)"
   ]
  },
  {
   "cell_type": "code",
   "execution_count": 10,
   "id": "1e766ee4",
   "metadata": {},
   "outputs": [
    {
     "data": {
      "text/html": [
       "<table border=\"1\" class=\"dataframe\">\n",
       "    <thead>\n",
       "        <tr>\n",
       "            <th>Day</th> <th>Data mean</th> <th>p_val</th>\n",
       "        </tr>\n",
       "    </thead>\n",
       "    <tbody>\n",
       "        <tr>\n",
       "            <td>Friday    </td> <td>0.825879 </td> <td>0.893</td>\n",
       "        </tr>\n",
       "        <tr>\n",
       "            <td>Monday    </td> <td>0.856855 </td> <td>1    </td>\n",
       "        </tr>\n",
       "        <tr>\n",
       "            <td>Saturday  </td> <td>0.774173 </td> <td>0    </td>\n",
       "        </tr>\n",
       "        <tr>\n",
       "            <td>Sunday    </td> <td>0.645154 </td> <td>0    </td>\n",
       "        </tr>\n",
       "        <tr>\n",
       "            <td>Thursday  </td> <td>0.864101 </td> <td>1    </td>\n",
       "        </tr>\n",
       "        <tr>\n",
       "            <td>Tuesday   </td> <td>0.820474 </td> <td>0.704</td>\n",
       "        </tr>\n",
       "        <tr>\n",
       "            <td>Wednesday </td> <td>0.846676 </td> <td>1    </td>\n",
       "        </tr>\n",
       "    </tbody>\n",
       "</table>"
      ],
      "text/plain": [
       "Day        | Data mean | p_val\n",
       "Friday     | 0.825879  | 0.893\n",
       "Monday     | 0.856855  | 1\n",
       "Saturday   | 0.774173  | 0\n",
       "Sunday     | 0.645154  | 0\n",
       "Thursday   | 0.864101  | 1\n",
       "Tuesday    | 0.820474  | 0.704\n",
       "Wednesday  | 0.846676  | 1"
      ]
     },
     "execution_count": 10,
     "metadata": {},
     "output_type": "execute_result"
    },
    {
     "data": {
      "image/png": "[encoded data removed]",
      "text/plain": [
       "<Figure size 600x400 with 1 Axes>"
      ]
     },
     "metadata": {},
     "output_type": "display_data"
    }
   ],
   "source": [
    "temp2.hist('sample')\n",
    "plots.scatter(Observed_Saturday, 0, color='red', s=40, zorder=3)\n",
    "plots.scatter(Observed_Sunday, 0, color='blue', s=40, zorder=3)\n",
    "\n",
    "\n",
    "\n",
    "def p_value(value):\n",
    "    return sum(value > temp)/1000\n",
    "\n",
    "\n",
    "p_val_array = RSF_Table.group('Day',np.mean).apply(p_value,'Data mean')\n",
    "RSF_Table.group('Day',np.mean).drop('Timestamp mean').with_columns('p_val',p_val_array)"
   ]
  }
 ],
 "metadata": {
  "kernelspec": {
   "display_name": "Python 3 (ipykernel)",
   "language": "python",
   "name": "python3"
  },
  "language_info": {
   "codemirror_mode": {
    "name": "ipython",
    "version": 3
   },
   "file_extension": ".py",
   "mimetype": "text/x-python",
   "name": "python",
   "nbconvert_exporter": "python",
   "pygments_lexer": "ipython3",
   "version": "3.9.15"
  }
 },
 "nbformat": 4,
 "nbformat_minor": 5
}
